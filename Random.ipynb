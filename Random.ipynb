{
 "cells": [
  {
   "cell_type": "code",
   "execution_count": 1,
   "metadata": {},
   "outputs": [
    {
     "name": "stdout",
     "output_type": "stream",
     "text": [
      "     \n",
      "q_0: \n",
      "     \n",
      "q_1: \n",
      "     \n",
      "q_2: \n",
      "     \n",
      "c: 3/\n",
      "     \n",
      "     ┌───┐\n",
      "q_0: ┤ H ├\n",
      "     ├───┤\n",
      "q_1: ┤ H ├\n",
      "     └───┘\n",
      "q_2: ─────\n",
      "          \n",
      "c: 3/═════\n",
      "          \n",
      "Paper\n",
      "Paper\n",
      "Paper\n",
      "Paper\n",
      "Paper\n",
      "Paper\n",
      "Paper\n",
      "Paper\n",
      "Paper\n",
      "Paper\n"
     ]
    }
   ],
   "source": [
    "from qiskit import*\n",
    "circuit = QuantumCircuit(3, 3)\n",
    "print(circuit)\n",
    "circuit.h(0)\n",
    "circuit.h(1)\n",
    "#circuit.h(2)\n",
    "print(circuit)\n",
    "#print(circuit.measure(1,1))\n",
    "\n",
    "i=0\n",
    "while i<10:\n",
    "    circuit.measure(0,0)\n",
    "    simulator = Aer.get_backend('qasm_simulator')\n",
    "    result = execute(circuit, backend=simulator, shots=1).result()\n",
    "    counts=result.get_counts()\n",
    "    if(counts.get('010'))==1:\n",
    "        i=i+1\n",
    "        str=\"Rock\"\n",
    "        #print(i)\n",
    "        print(str)\n",
    "    if(counts.get('000'))==1:\n",
    "        i=i+1\n",
    "       # print(i)\n",
    "        str=\"Paper\"\n",
    "        print(str)\n",
    "    if(counts.get('011'))==1:\n",
    "        i=i+1\n",
    "       # print(i)\n",
    "        str=\"Scissors\"\n",
    "        print(str)"
   ]
  },
  {
   "cell_type": "code",
   "execution_count": null,
   "metadata": {},
   "outputs": [],
   "source": []
  }
 ],
 "metadata": {
  "kernelspec": {
   "display_name": "Python 3",
   "language": "python",
   "name": "python3"
  },
  "language_info": {
   "codemirror_mode": {
    "name": "ipython",
    "version": 3
   },
   "file_extension": ".py",
   "mimetype": "text/x-python",
   "name": "python",
   "nbconvert_exporter": "python",
   "pygments_lexer": "ipython3",
   "version": "3.7.6"
  }
 },
 "nbformat": 4,
 "nbformat_minor": 4
}
